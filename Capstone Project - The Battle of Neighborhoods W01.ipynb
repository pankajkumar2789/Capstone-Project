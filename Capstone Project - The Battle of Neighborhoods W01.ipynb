{
    "nbformat_minor": 1, 
    "cells": [
        {
            "source": "# A description of the problem and a discussion of the background.", 
            "cell_type": "markdown", 
            "metadata": {
                "collapsed": true
            }
        }, 
        {
            "source": "A Problem Is Here We Need To Understand The Similarities And Differences Of Neighbourhoods Between Scarborough Borough In Toronto And Queens Borough In New York City.\n\nWe Need To Select The Best Neighbourhood For An Organization To Move Its Headquarters Based On Venues\n\nThis Project Will Analyse Neighbourhoods Between Toronto, Canada And New York City, New York. For An\nOrganization Is Looking To Move Its Headquarters To Either Toronto Or New York City. The\nCompany Wants Insight Into The Neighbourhoods And Local Businesses In The Cities So That Its\nEmployees May Have The Optimum Living Standards And Quality Of Life For Family And Himself. This Project Will Explore The Similarities And Dissimilarities Between Certain Neighbourhoods In The Two Cities, And Determine Which Neighbourhoods Best Fit The Culture Of The Organization For Employees.\n\nHere We Collect The Neighbourhoods Top Venues Using Foursquare Form Neighbourhood Based On Venue Categories Using Unsupervised K-means Clustering Algorithm.\n\nWe Identify And Understand The Similarities And Differences Between\nScarborough And Queens Neighbourhoods To Obtain Insights Into The Neighbourhoods.\n", 
            "cell_type": "markdown", 
            "attachments": {}, 
            "metadata": {}
        }, 
        {
            "source": "# A description of the data and how it will be used to solve the problem. ", 
            "cell_type": "markdown", 
            "metadata": {}
        }, 
        {
            "source": "The data used for this project will be acquired from the respective cities Wikipedia website pages. The\ndatasets consists of the postal codes, neighborhood names, latitude, and longitude information for\neach neighborhood. Foursquare API search feature will be used to collect neighborhood venue\ninformation. Details about local venues and locality will be provide insight into the qualities of a\nneighborhood. In addition to Foursquare, various python packages will be used to create maps and\nmachine learning models to further provide insights into our neighborhood battle project.\nI used the following datasets from these websites:\nToronto Neighborhoods - https://en.wikipedia.org/wiki/List_of_postal_codes_of_Canada:_M.\nToronto Latitude and Longitude - http://cocl.us/Geospatial_data\nNew York City neighborhoods - https://geo.nyu.edu/catalog/nyu_2451_34572\nNew York City Latitude and Longitude = Python Geolibrar", 
            "cell_type": "markdown", 
            "metadata": {}
        }, 
        {
            "source": "Based on the quantity of venues and variety of venues, we will choose the best city\nto relocate the headquarters of the organization. The city which offer a greater amount of gyms, grocery stores, restaurants for individual and families of the employees.", 
            "cell_type": "markdown", 
            "metadata": {}
        }
    ], 
    "metadata": {
        "kernelspec": {
            "display_name": "Python 3.5", 
            "name": "python3", 
            "language": "python"
        }, 
        "language_info": {
            "mimetype": "text/x-python", 
            "nbconvert_exporter": "python", 
            "version": "3.5.5", 
            "name": "python", 
            "file_extension": ".py", 
            "pygments_lexer": "ipython3", 
            "codemirror_mode": {
                "version": 3, 
                "name": "ipython"
            }
        }
    }, 
    "nbformat": 4
}